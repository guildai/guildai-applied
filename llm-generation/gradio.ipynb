{
 "cells": [
  {
   "cell_type": "code",
   "execution_count": 1,
   "metadata": {},
   "outputs": [],
   "source": [
    "import torch\n",
    "import torch.nn.functional as F\n",
    "from transformers import (\n",
    "    GPT2LMHeadModel,\n",
    "    GPT2Tokenizer,\n",
    ")\n",
    "\n",
    "\n",
    "entry_count=1\n",
    "entry_length=100 #maximum number of words\n",
    "top_p=0.8\n",
    "temperature=1.0\n",
    "prompt=\"test prompt\"\n",
    "ending = \"<|endoftext|>\"\n",
    "\n",
    "\n",
    "def generate(\n",
    "    model,\n",
    "    tokenizer,\n",
    "    prompt,\n",
    "    entry_count=10,\n",
    "    entry_length=30, #maximum number of words\n",
    "    top_p=0.8,\n",
    "    temperature=1.,\n",
    "    ending=\"<|endoftext|>\",\n",
    "):\n",
    "    model.eval()\n",
    "    generated_num = 0\n",
    "    generated_list = []\n",
    "\n",
    "    filter_value = -float(\"Inf\")\n",
    "\n",
    "    with torch.no_grad():\n",
    "\n",
    "        for _ in range(entry_count):\n",
    "\n",
    "            entry_finished = False\n",
    "            generated = torch.tensor(tokenizer.encode(prompt)).unsqueeze(0)\n",
    "\n",
    "            for i in range(entry_length):\n",
    "                outputs = model(generated, labels=generated)\n",
    "                loss, logits = outputs[:2]\n",
    "                logits = logits[:, -1, :] / (temperature if temperature > 0 else 1.0)\n",
    "\n",
    "                sorted_logits, sorted_indices = torch.sort(logits, descending=True)\n",
    "                cumulative_probs = torch.cumsum(F.softmax(sorted_logits, dim=-1), dim=-1)\n",
    "\n",
    "                sorted_indices_to_remove = cumulative_probs > top_p\n",
    "                sorted_indices_to_remove[..., 1:] = sorted_indices_to_remove[\n",
    "                    ..., :-1\n",
    "                ].clone()\n",
    "                sorted_indices_to_remove[..., 0] = 0\n",
    "\n",
    "                indices_to_remove = sorted_indices[sorted_indices_to_remove]\n",
    "                logits[:, indices_to_remove] = filter_value\n",
    "\n",
    "                next_token = torch.multinomial(F.softmax(logits, dim=-1), num_samples=1)\n",
    "                generated = torch.cat((generated, next_token), dim=1)\n",
    "\n",
    "                if next_token in tokenizer.encode(ending):\n",
    "                    entry_finished = True\n",
    "\n",
    "                if entry_finished:\n",
    "                    generated_num = generated_num + 1\n",
    "\n",
    "                    output_list = list(generated.squeeze().numpy())\n",
    "                    output_text = tokenizer.decode(output_list)\n",
    "                    generated_list.append(output_text)\n",
    "                    break\n",
    "            \n",
    "            if not entry_finished:\n",
    "                output_list = list(generated.squeeze().numpy())\n",
    "                output_text = f\"{tokenizer.decode(output_list)}{ending}\" \n",
    "                generated_list.append(output_text)\n",
    "                \n",
    "    return generated_list\n",
    "\n",
    "\n",
    "def gradio_fn(\n",
    "    prompt=prompt,\n",
    "    entry_length=entry_length,\n",
    "    temperature=temperature,\n",
    "    top_p=top_p,\n",
    "):\n",
    "    tokenizer = GPT2Tokenizer.from_pretrained('gpt2')\n",
    "    model = GPT2LMHeadModel.from_pretrained('gpt2')\n",
    "    generated = generate(\n",
    "        model.to('cpu'),\n",
    "        tokenizer,\n",
    "        prompt,\n",
    "        entry_count=entry_count,\n",
    "        entry_length=entry_length,\n",
    "        top_p=top_p,\n",
    "        temperature=temperature,\n",
    "        ending=ending,\n",
    "    )\n",
    "    return generated[0].replace(ending, \"\")"
   ]
  },
  {
   "cell_type": "code",
   "execution_count": 2,
   "metadata": {},
   "outputs": [
    {
     "name": "stdout",
     "output_type": "stream",
     "text": [
      "Running on local URL:  http://127.0.0.1:7860\n",
      "\n",
      "To create a public link, set `share=True` in `launch()`.\n"
     ]
    },
    {
     "data": {
      "text/html": [
       "<div><iframe src=\"http://127.0.0.1:7860/\" width=\"100%\" height=\"500\" allow=\"autoplay; camera; microphone; clipboard-read; clipboard-write;\" frameborder=\"0\" allowfullscreen></iframe></div>"
      ],
      "text/plain": [
       "<IPython.core.display.HTML object>"
      ]
     },
     "metadata": {},
     "output_type": "display_data"
    },
    {
     "ename": "AttributeError",
     "evalue": "module 'app' has no attribute 'Interface'",
     "output_type": "error",
     "traceback": [
      "\u001b[0;31m---------------------------------------------------------------------------\u001b[0m",
      "\u001b[0;31mAttributeError\u001b[0m                            Traceback (most recent call last)",
      "Cell \u001b[0;32mIn[2], line 3\u001b[0m\n\u001b[1;32m      1\u001b[0m \u001b[39mimport\u001b[39;00m \u001b[39mapp\u001b[39;00m \u001b[39mas\u001b[39;00m \u001b[39mgr\u001b[39;00m\n\u001b[0;32m----> 3\u001b[0m app \u001b[39m=\u001b[39m gr\u001b[39m.\u001b[39;49mInterface(\n\u001b[1;32m      4\u001b[0m     fn\u001b[39m=\u001b[39mgradio_fn,\n\u001b[1;32m      5\u001b[0m     inputs\u001b[39m=\u001b[39m[\n\u001b[1;32m      6\u001b[0m         gr\u001b[39m.\u001b[39mTextArea(\u001b[39m\"\u001b[39m\u001b[39mtest prompt\u001b[39m\u001b[39m\"\u001b[39m),\n\u001b[1;32m      7\u001b[0m         gr\u001b[39m.\u001b[39mSlider(\u001b[39m1\u001b[39m,\u001b[39m1024\u001b[39m,\u001b[39m100\u001b[39m,step\u001b[39m=\u001b[39m\u001b[39m1\u001b[39m),\n\u001b[1;32m      8\u001b[0m         gr\u001b[39m.\u001b[39mSlider(\u001b[39m0.01\u001b[39m,\u001b[39m1\u001b[39m,\u001b[39m1.0\u001b[39m,step\u001b[39m=\u001b[39m\u001b[39m0.01\u001b[39m),\n\u001b[1;32m      9\u001b[0m         gr\u001b[39m.\u001b[39mSlider(\u001b[39m0.01\u001b[39m,\u001b[39m1\u001b[39m,\u001b[39m0.8\u001b[39m,step\u001b[39m=\u001b[39m\u001b[39m0.01\u001b[39m),\n\u001b[1;32m     10\u001b[0m     ],\n\u001b[1;32m     11\u001b[0m     outputs\u001b[39m=\u001b[39m\u001b[39m\"\u001b[39m\u001b[39mtext\u001b[39m\u001b[39m\"\u001b[39m,\n\u001b[1;32m     12\u001b[0m )\n\u001b[1;32m     14\u001b[0m app\u001b[39m.\u001b[39mlaunch()\n",
      "\u001b[0;31mAttributeError\u001b[0m: module 'app' has no attribute 'Interface'"
     ]
    },
    {
     "name": "stderr",
     "output_type": "stream",
     "text": [
      "2023-06-14 12:00:42.707102: I tensorflow/core/platform/cpu_feature_guard.cc:182] This TensorFlow binary is optimized to use available CPU instructions in performance-critical operations.\n",
      "To enable the following instructions: AVX2 FMA, in other operations, rebuild TensorFlow with the appropriate compiler flags.\n",
      "2023-06-14 12:00:43.573085: W tensorflow/compiler/tf2tensorrt/utils/py_utils.cc:38] TF-TRT Warning: Could not find TensorRT\n"
     ]
    }
   ],
   "source": [
    "import app as gr\n",
    "\n",
    "app = gr.Interface(\n",
    "    fn=gradio_fn,\n",
    "    inputs=[\n",
    "        gr.TextArea(\"test prompt\"),\n",
    "        gr.Slider(1,1024,100,step=1),\n",
    "        gr.Slider(0.01,1,1.0,step=0.01),\n",
    "        gr.Slider(0.01,1,0.8,step=0.01),\n",
    "    ],\n",
    "    outputs=\"text\",\n",
    ")\n",
    "\n",
    "app.launch()"
   ]
  }
 ],
 "metadata": {
  "kernelspec": {
   "display_name": "Python 3",
   "language": "python",
   "name": "python3"
  },
  "language_info": {
   "codemirror_mode": {
    "name": "ipython",
    "version": 3
   },
   "file_extension": ".py",
   "mimetype": "text/x-python",
   "name": "python",
   "nbconvert_exporter": "python",
   "pygments_lexer": "ipython3",
   "version": "3.10.9"
  },
  "orig_nbformat": 4
 },
 "nbformat": 4,
 "nbformat_minor": 2
}
