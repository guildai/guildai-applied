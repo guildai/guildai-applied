{
 "cells": [
  {
   "cell_type": "code",
   "execution_count": 169,
   "metadata": {},
   "outputs": [
    {
     "data": {
      "application/vnd.jupyter.widget-view+json": {
       "model_id": "2489c9bfe5a74579a5e1cea876acac20",
       "version_major": 2,
       "version_minor": 0
      },
      "text/plain": [
       "HBox(children=(HBox(children=(VBox(children=(HTML(value='<span style=\"white-space: nowrap\">run: c47efe8f80ca40…"
      ]
     },
     "metadata": {},
     "output_type": "display_data"
    },
    {
     "data": {
      "application/vnd.jupyter.widget-view+json": {
       "model_id": "38c508a256c34ea382dd3146e2b9505f",
       "version_major": 2,
       "version_minor": 0
      },
      "text/plain": [
       "HBox(children=(HBox(children=(VBox(children=(HTML(value='<span style=\"white-space: nowrap\">run: df6b1b82216e42…"
      ]
     },
     "metadata": {},
     "output_type": "display_data"
    },
    {
     "data": {
      "application/vnd.jupyter.widget-view+json": {
       "model_id": "da8d2a9c264444d1a63beaff9bb2c05d",
       "version_major": 2,
       "version_minor": 0
      },
      "text/plain": [
       "HBox(children=(HBox(children=(VBox(children=(HTML(value='<span style=\"white-space: nowrap\">run: 6da3c28447ea40…"
      ]
     },
     "metadata": {},
     "output_type": "display_data"
    },
    {
     "data": {
      "application/vnd.jupyter.widget-view+json": {
       "model_id": "3b1eba9eb2ef43489f9ae243a2cbfce0",
       "version_major": 2,
       "version_minor": 0
      },
      "text/plain": [
       "HBox(children=(HBox(children=(VBox(children=(HTML(value='<span style=\"white-space: nowrap\">run: 03f999c88ec940…"
      ]
     },
     "metadata": {},
     "output_type": "display_data"
    },
    {
     "data": {
      "application/vnd.jupyter.widget-view+json": {
       "model_id": "7d42bb15486c4e5eb5d0d16df3099060",
       "version_major": 2,
       "version_minor": 0
      },
      "text/plain": [
       "HBox(children=(HBox(children=(VBox(children=(HTML(value='<span style=\"white-space: nowrap\">run: 306ce33ac2f14b…"
      ]
     },
     "metadata": {},
     "output_type": "display_data"
    },
    {
     "data": {
      "application/vnd.jupyter.widget-view+json": {
       "model_id": "9e179674f7744924a46c406412dce7c7",
       "version_major": 2,
       "version_minor": 0
      },
      "text/plain": [
       "HBox(children=(HBox(children=(VBox(children=(HTML(value='<span style=\"white-space: nowrap\">run: b1c125233cf345…"
      ]
     },
     "metadata": {},
     "output_type": "display_data"
    },
    {
     "data": {
      "application/vnd.jupyter.widget-view+json": {
       "model_id": "bc36c41ee07b400ca8ca4f24e033b67e",
       "version_major": 2,
       "version_minor": 0
      },
      "text/plain": [
       "HBox(children=(HBox(children=(VBox(children=(HTML(value='<span style=\"white-space: nowrap\">run: 24e17c05635546…"
      ]
     },
     "metadata": {},
     "output_type": "display_data"
    },
    {
     "data": {
      "application/vnd.jupyter.widget-view+json": {
       "model_id": "6cf7db9df3684bfdb00a15e50f884fdb",
       "version_major": 2,
       "version_minor": 0
      },
      "text/plain": [
       "HBox(children=(HBox(children=(VBox(children=(HTML(value='<span style=\"white-space: nowrap\">run: bd86b91259174a…"
      ]
     },
     "metadata": {},
     "output_type": "display_data"
    },
    {
     "data": {
      "application/vnd.jupyter.widget-view+json": {
       "model_id": "e189f336559f4e798c19884e3c5a8a05",
       "version_major": 2,
       "version_minor": 0
      },
      "text/plain": [
       "HBox(children=(HBox(children=(VBox(children=(HTML(value='<span style=\"white-space: nowrap\">run: cb430add2b3c42…"
      ]
     },
     "metadata": {},
     "output_type": "display_data"
    },
    {
     "data": {
      "application/vnd.jupyter.widget-view+json": {
       "model_id": "b40f25dc5cda4a13b9ce4f570d5ae3e0",
       "version_major": 2,
       "version_minor": 0
      },
      "text/plain": [
       "HBox(children=(HBox(children=(VBox(children=(HTML(value='<span style=\"white-space: nowrap\">run: 589fcdb09dd14c…"
      ]
     },
     "metadata": {},
     "output_type": "display_data"
    }
   ],
   "source": [
    "from IPython.display import display\n",
    "from ipywidgets import widgets\n",
    "from os.path import join\n",
    "import guild.ipy as guild\n",
    "\n",
    "def _run_time_seconds(attrs):\n",
    "    started = attrs[\"started\"]\n",
    "    stopped = attrs[\"stopped\"]\n",
    "    return (stopped-started)//1e6\n",
    "\n",
    "def _runs_data(last_n_runs):\n",
    "    import collections\n",
    "    data = collections.defaultdict(dict)\n",
    "    scalars = runs.scalars()[:last_n_runs].filter(items=[\"run\",\"last_val\",])\n",
    "    for run, loss in zip(scalars[\"run\"], scalars[\"last_val\"]):\n",
    "        run_data = data[run]\n",
    "        run_data[\"loss\"] = loss\n",
    "    \n",
    "    for run in guild.runs()[:last_n_runs][\"run\"]:\n",
    "        run = run.run\n",
    "        attrs = dict(run.iter_attrs())\n",
    "        run_data = data[run.id]\n",
    "        run_data[\"flags\"] = attrs[\"flags\"]\n",
    "        run_data[\"time\"] = _run_time_seconds(attrs)\n",
    "\n",
    "    return data\n",
    "\n",
    "def _image_widget(img_path, scale=1):\n",
    "    return widgets.Image(\n",
    "        value=open(img_path, 'rb').read(),\n",
    "        width=int(660*scale),\n",
    "        height=int(400*scale),\n",
    "    )\n",
    "\n",
    "def _text_widget(key, value):\n",
    "    return widgets.HTML(f'<span style=\"white-space: nowrap\">{key}: {value}</span>')\n",
    "\n",
    "def _render_view(run, runs_data):\n",
    "    run_data = runs_data[run.id]\n",
    "\n",
    "    stats = [\n",
    "        (\"run\", run.id),\n",
    "        (\"loss\", run_data['loss']),\n",
    "        (\"time\", run_data['time']),\n",
    "    ] +  list(run_data['flags'].items())\n",
    "\n",
    "    stats_box = widgets.HBox([\n",
    "        widgets.VBox([_text_widget(key, value) for key, value in stats]),\n",
    "    ])\n",
    "\n",
    "    run_dir = run.dir\n",
    "    image_box = widgets.HBox([\n",
    "        widgets.VBox([_image_widget(img_path, scale) for img_path, scale in [\n",
    "            (join(run_dir, \"content_img.png\"), 0.6),\n",
    "            (join(run_dir, \"style_img.png\"), 0.6),\n",
    "        ]]),\n",
    "        _image_widget(join(run_dir, \"generated_img.png\"), 1.2),\n",
    "    ])\n",
    "\n",
    "    row = widgets.HBox([stats_box, image_box])\n",
    "    display(row)\n",
    "\n",
    "runs = guild.runs()\n",
    "run_series = runs[\"run\"]\n",
    "last_n_runs = 10 # choose how many runs to display data for\n",
    "runs_data = _runs_data(last_n_runs)\n",
    "for run in run_series[:last_n_runs]:\n",
    "    _render_view(run.run, runs_data)"
   ]
  },
  {
   "cell_type": "code",
   "execution_count": null,
   "metadata": {},
   "outputs": [],
   "source": []
  }
 ],
 "metadata": {
  "kernelspec": {
   "display_name": "Python 3",
   "language": "python",
   "name": "python3"
  },
  "language_info": {
   "codemirror_mode": {
    "name": "ipython",
    "version": 3
   },
   "file_extension": ".py",
   "mimetype": "text/x-python",
   "name": "python",
   "nbconvert_exporter": "python",
   "pygments_lexer": "ipython3",
   "version": "3.10.9"
  },
  "orig_nbformat": 4
 },
 "nbformat": 4,
 "nbformat_minor": 2
}
